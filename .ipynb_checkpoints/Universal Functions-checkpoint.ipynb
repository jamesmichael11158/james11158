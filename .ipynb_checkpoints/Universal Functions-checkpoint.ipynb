{
 "cells": [
  {
   "cell_type": "code",
   "execution_count": 22,
   "metadata": {
    "collapsed": false
   },
   "outputs": [
    {
     "name": "stdout",
     "output_type": "stream",
     "text": [
      "[1 2 3 4 5]\n",
      "[-1  0  1  2  3]\n",
      "[ 0  3  6  9 12]\n",
      "[ 0.   0.5  1.   1.5  2. ]\n",
      "[0 0 1 1 2]\n",
      "[ 0  1  4  9 16]\n",
      "[0 1 0 1 0]\n",
      "\n",
      "Trig Functions:\n",
      "[ 0.          1.57079633  3.14159265]\n",
      "[  0.00000000e+00   1.00000000e+00   1.22464680e-16]\n",
      "[  1.00000000e+00   6.12323400e-17  -1.00000000e+00]\n",
      "[  0.00000000e+00   1.63312394e+16  -1.22464680e-16]\n",
      "[-1.57079633  0.          1.57079633]\n",
      "[ 3.14159265  1.57079633  0.        ]\n",
      "[-0.78539816  0.          0.78539816]\n"
     ]
    }
   ],
   "source": [
    "#Key to speed is vectorized operations\n",
    "#These are implemented through numpy's universal functions\n",
    "\n",
    "import numpy as np\n",
    "np.random.seed(0)\n",
    "\n",
    "def compute_recipricols(values):\n",
    "    output = np.empty(len(values))\n",
    "    for i in range(len(values)):\n",
    "        output[i] = 1.0 / values[i]\n",
    "        return output\n",
    "    \n",
    "#values = np.random.randint(1, 10, size = 5)\n",
    "#compute_recipricols(values)\n",
    "    \n",
    "#big_array = np.random.randint(1, 100, size = 1000000)\n",
    "#%timeit compute_recipricols(big_array)\n",
    "\n",
    "#print(np.arange(5))\n",
    "#print(np.arange(1, 6))\n",
    "x = np.arange(5)\n",
    "print(x + 1)\n",
    "print(x - 1)\n",
    "print(x * 3)\n",
    "print(x / 2)\n",
    "print(x // 2)\n",
    "print(x ** 2) #Exponent\n",
    "print(x % 2) #Remainder (modulus)\n",
    "\n",
    "#Trig\n",
    "theta = np.linspace(0, np.pi, 3)\n",
    "print(\"\")\n",
    "print(\"Trig Functions:\")\n",
    "print(theta)\n",
    "print(np.sin(theta))\n",
    "print(np.cos(theta))\n",
    "print(np.tan(theta))\n",
    "\n",
    "x = [-1, 0, 1]\n",
    "print(np.arcsin(x))\n",
    "print(np.arccos(x))\n",
    "print(np.arctan(x))\n",
    "\n"
   ]
  }
 ],
 "metadata": {
  "kernelspec": {
   "display_name": "Python 3",
   "language": "python",
   "name": "python3"
  },
  "language_info": {
   "codemirror_mode": {
    "name": "ipython",
    "version": 3
   },
   "file_extension": ".py",
   "mimetype": "text/x-python",
   "name": "python",
   "nbconvert_exporter": "python",
   "pygments_lexer": "ipython3",
   "version": "3.6.0"
  }
 },
 "nbformat": 4,
 "nbformat_minor": 2
}
