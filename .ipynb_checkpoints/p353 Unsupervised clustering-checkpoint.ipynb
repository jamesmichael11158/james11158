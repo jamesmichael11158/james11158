{
 "cells": [
  {
   "cell_type": "code",
   "execution_count": 1,
   "metadata": {
    "collapsed": true
   },
   "outputs": [],
   "source": [
    "# First two code blocks are the same as the supervised version\n",
    "import pandas as pd\n",
    "import numpy as np\n",
    "\n",
    "from sklearn import datasets\n",
    "from sklearn.model_selection import train_test_split\n",
    "\n",
    "iris_raw = datasets.load_iris()\n",
    "iris = pd.DataFrame(iris_raw.data, columns = iris_raw.feature_names)\n",
    "\n",
    "iris = pd.concat([iris, pd.DataFrame(iris_raw.target)], axis = 1)\n",
    "iris.columns.values[4] = 'tgt_no'\n",
    "\n",
    "tgt_dict = dict(zip(np.arange(0, len(iris_raw.target_names)), iris_raw.target_names))\n",
    "\n",
    "iris['species'] = iris['tgt_no'].map(tgt_dict)\n",
    "\n",
    "iris = iris.drop('tgt_no', axis = 1)\n",
    "\n",
    "iris.head()\n",
    "\n",
    "# split data into test group with (speal + petal) * (length + width)\n",
    "x_iris = iris.drop('species', axis = 1)\n",
    "y_iris = iris['species']\n",
    "xtrain, xtest, ytrain, ytest = train_test_split(x_iris, y_iris, random_state = 1)"
   ]
  },
  {
   "cell_type": "code",
   "execution_count": null,
   "metadata": {
    "collapsed": true
   },
   "outputs": [],
   "source": []
  }
 ],
 "metadata": {
  "kernelspec": {
   "display_name": "Python 3",
   "language": "python",
   "name": "python3"
  },
  "language_info": {
   "codemirror_mode": {
    "name": "ipython",
    "version": 3
   },
   "file_extension": ".py",
   "mimetype": "text/x-python",
   "name": "python",
   "nbconvert_exporter": "python",
   "pygments_lexer": "ipython3",
   "version": "3.6.0"
  }
 },
 "nbformat": 4,
 "nbformat_minor": 2
}
