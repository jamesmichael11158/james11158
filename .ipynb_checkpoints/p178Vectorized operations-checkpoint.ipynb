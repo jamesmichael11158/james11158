{
 "cells": [
  {
   "cell_type": "code",
   "execution_count": 39,
   "metadata": {
    "collapsed": false
   },
   "outputs": [
    {
     "name": "stdout",
     "output_type": "stream",
     "text": [
      "    info                  name\n",
      "0  A|B|C           peter piper\n",
      "1  A|B|D          Peter Parker\n",
      "2    C|D             MARY Jane\n",
      "3    A|C           NONE at all\n",
      "4      D  gUIDO the englishman\n",
      "   A  B  C  D\n",
      "0  1  1  1  0\n",
      "1  1  1  0  1\n",
      "2  0  0  1  1\n",
      "3  1  0  1  0\n",
      "4  0  0  0  1\n"
     ]
    },
    {
     "name": "stderr",
     "output_type": "stream",
     "text": [
      "C:\\Users\\thomas.preston\\AppData\\Local\\Continuum\\Anaconda3\\lib\\site-packages\\ipykernel\\__main__.py:29: FutureWarning: currently extract(expand=None) means expand=False (return Index/Series/DataFrame) but in a future version of pandas this will be changed to expand=True (return DataFrame)\n"
     ]
    }
   ],
   "source": [
    "import numpy as np\n",
    "import pandas as pd\n",
    "\n",
    "#Numeric vectorized operation\n",
    "x = np.array([2, 3, 5, 7, 11, 13])\n",
    "x * 2\n",
    "\n",
    "#List comprehension\n",
    "y = np.array(['peter piper', 'Peter Parker', 'MARY Jane', 'NONE at all', 'gUIDO the englishman'])\n",
    "[s.capitalize() for s in y]\n",
    "\n",
    "#This won't work for examples like below\n",
    "#y = np.array(['peter', 'Peter', 'MARY', None, 'gUIDO'])\n",
    "#[s.capitalize() for s in y]\n",
    "\n",
    "names = pd.Series(y)\n",
    "names\n",
    "\n",
    "#Various string functions\n",
    "names.str.capitalize()\n",
    "names.str.lower()\n",
    "names.str.len()\n",
    "names.str.startswith('p')\n",
    "names.str.split(' ')\n",
    "\n",
    "#Using reg-ex\n",
    "import re\n",
    "\n",
    "names.str.extract('([a-zA-Z]+)')\n",
    "\n",
    "#names.str.findall(r'^[AEIOU].*[^AEIOU]$')\n",
    "\n",
    "#others\n",
    "names.str.cat(sep = ' ')\n",
    "names.str.get(0)\n",
    "#names.str.slice(6)\n",
    "\n",
    "name_preferences = pd.DataFrame({'name' : names,\n",
    "                                'info' : ['A|B|C', 'A|B|D', 'C|D', 'A|C', 'D']})\n",
    "\n",
    "print(name_preferences)\n",
    "print(name_preferences['info'].str.get_dummies('|'))"
   ]
  }
 ],
 "metadata": {
  "kernelspec": {
   "display_name": "Python 3",
   "language": "python",
   "name": "python3"
  },
  "language_info": {
   "codemirror_mode": {
    "name": "ipython",
    "version": 3
   },
   "file_extension": ".py",
   "mimetype": "text/x-python",
   "name": "python",
   "nbconvert_exporter": "python",
   "pygments_lexer": "ipython3",
   "version": "3.6.0"
  }
 },
 "nbformat": 4,
 "nbformat_minor": 2
}
