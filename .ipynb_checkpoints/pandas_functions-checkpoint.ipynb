{
 "cells": [
  {
   "cell_type": "code",
   "execution_count": 21,
   "metadata": {
    "collapsed": false
   },
   "outputs": [
    {
     "name": "stdout",
     "output_type": "stream",
     "text": [
      "    A   B\n",
      "0   6  19\n",
      "1  14  10\n",
      "   B  A  C\n",
      "0  7  4  6\n",
      "1  9  2  6\n",
      "2  7  4  3\n",
      "['r', 'e', 'j', 'k', 'n', 'e', 'r']\n",
      "fill:\n",
      "12.25\n"
     ]
    },
    {
     "data": {
      "text/html": [
       "<div>\n",
       "<table border=\"1\" class=\"dataframe\">\n",
       "  <thead>\n",
       "    <tr style=\"text-align: right;\">\n",
       "      <th></th>\n",
       "      <th>A</th>\n",
       "      <th>B</th>\n",
       "      <th>C</th>\n",
       "    </tr>\n",
       "  </thead>\n",
       "  <tbody>\n",
       "    <tr>\n",
       "      <th>0</th>\n",
       "      <td>10.00</td>\n",
       "      <td>26.00</td>\n",
       "      <td>18.25</td>\n",
       "    </tr>\n",
       "    <tr>\n",
       "      <th>1</th>\n",
       "      <td>16.00</td>\n",
       "      <td>19.00</td>\n",
       "      <td>18.25</td>\n",
       "    </tr>\n",
       "    <tr>\n",
       "      <th>2</th>\n",
       "      <td>16.25</td>\n",
       "      <td>19.25</td>\n",
       "      <td>15.25</td>\n",
       "    </tr>\n",
       "  </tbody>\n",
       "</table>\n",
       "</div>"
      ],
      "text/plain": [
       "       A      B      C\n",
       "0  10.00  26.00  18.25\n",
       "1  16.00  19.00  18.25\n",
       "2  16.25  19.25  15.25"
      ]
     },
     "execution_count": 21,
     "metadata": {},
     "output_type": "execute_result"
    }
   ],
   "source": [
    "import numpy as np\n",
    "import pandas as pd\n",
    "\n",
    "area = pd.Series({'alaska':23448, 'texas':54945,'california':954832})\n",
    "pop = pd.Series({'california':173, 'texas':9334,'new york':349})\n",
    "\n",
    "#pop/area\n",
    "#area.index | pop.index\n",
    "\n",
    "A = pd.Series([2,4,6], index = [0,1,2])\n",
    "B = pd.Series([1,3,5], index = [1,2,3])\n",
    "\n",
    "A + B\n",
    "rng = np.random.RandomState(42)\n",
    "\n",
    "A = pd.DataFrame(rng.randint(0, 20, (2, 2)),\n",
    "                columns=list('AB'))\n",
    "\n",
    "B = pd.DataFrame(rng.randint(0, 10, (3, 3)),\n",
    "                columns = list('BAC'))\n",
    "print(A)\n",
    "print(B)\n",
    "print(list('rejkner'))\n",
    "\n",
    "A + B\n",
    "fill = A.stack().mean()\n",
    "\n",
    "print('fill:')\n",
    "print(fill)\n",
    "A.add(B, fill_value = fill)\n",
    "\n"
   ]
  },
  {
   "cell_type": "code",
   "execution_count": 50,
   "metadata": {
    "collapsed": false
   },
   "outputs": [
    {
     "name": "stdout",
     "output_type": "stream",
     "text": [
      "   E  R  T  Y\n",
      "0  6  3  7  4\n",
      "1  6  9  2  6\n",
      "2  7  4  3  7\n",
      "E    6\n",
      "R    3\n",
      "T    7\n",
      "Y    4\n",
      "Name: 0, dtype: int32\n",
      "   E  R  T  Y\n",
      "0  3  0  4  1\n",
      "1 -3  0 -7 -3\n",
      "2  3  0 -1  3\n",
      "0    3\n",
      "1    9\n",
      "2    4\n",
      "Name: R, dtype: int32\n"
     ]
    }
   ],
   "source": [
    "import pandas as pd\n",
    "import numpy as np\n",
    "\n",
    "#Set Seed\n",
    "rng = np.random.RandomState(42)\n",
    "\n",
    "A = rng.randint(10, size = (3, 4))\n",
    "# A[0] is first row of A\n",
    "\n",
    "A - A[0]\n",
    "\n",
    "df = pd.DataFrame(A, columns = list('ERTY'))\n",
    "print(df)\n",
    "print(df.iloc[0])\n",
    "print(df.subtract(df['R'], axis = 0))\n",
    "print(df['R'])"
   ]
  },
  {
   "cell_type": "code",
   "execution_count": null,
   "metadata": {
    "collapsed": true
   },
   "outputs": [],
   "source": []
  },
  {
   "cell_type": "code",
   "execution_count": null,
   "metadata": {
    "collapsed": true
   },
   "outputs": [],
   "source": []
  },
  {
   "cell_type": "code",
   "execution_count": null,
   "metadata": {
    "collapsed": true
   },
   "outputs": [],
   "source": []
  },
  {
   "cell_type": "code",
   "execution_count": null,
   "metadata": {
    "collapsed": true
   },
   "outputs": [],
   "source": []
  }
 ],
 "metadata": {
  "kernelspec": {
   "display_name": "Python 3",
   "language": "python",
   "name": "python3"
  },
  "language_info": {
   "codemirror_mode": {
    "name": "ipython",
    "version": 3
   },
   "file_extension": ".py",
   "mimetype": "text/x-python",
   "name": "python",
   "nbconvert_exporter": "python",
   "pygments_lexer": "ipython3",
   "version": "3.6.0"
  }
 },
 "nbformat": 4,
 "nbformat_minor": 2
}
