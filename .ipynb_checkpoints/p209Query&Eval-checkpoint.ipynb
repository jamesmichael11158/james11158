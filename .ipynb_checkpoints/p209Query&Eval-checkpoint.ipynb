{
 "cells": [
  {
   "cell_type": "code",
   "execution_count": 4,
   "metadata": {
    "collapsed": false
   },
   "outputs": [
    {
     "name": "stderr",
     "output_type": "stream",
     "text": [
      "C:\\Users\\thomas.preston\\AppData\\Local\\Continuum\\Anaconda3\\lib\\site-packages\\ipykernel\\__main__.py:5: VisibleDeprecationWarning: using a non-integer number instead of an integer will result in an error in the future\n",
      "C:\\Users\\thomas.preston\\AppData\\Local\\Continuum\\Anaconda3\\lib\\site-packages\\ipykernel\\__main__.py:6: VisibleDeprecationWarning: using a non-integer number instead of an integer will result in an error in the future\n"
     ]
    },
    {
     "name": "stdout",
     "output_type": "stream",
     "text": [
      "100 loops, best of 3: 4.92 ms per loop\n"
     ]
    }
   ],
   "source": [
    "import numpy as np\n",
    "\n",
    "rng = np.random.RandomState(6)\n",
    "\n",
    "x = rng.rand(1E6)\n",
    "y = rng.rand(1E6)\n",
    "\n",
    "%timeit x + y"
   ]
  },
  {
   "cell_type": "code",
   "execution_count": 2,
   "metadata": {
    "collapsed": false
   },
   "outputs": [
    {
     "name": "stdout",
     "output_type": "stream",
     "text": [
      "1 loop, best of 3: 240 ms per loop\n"
     ]
    }
   ],
   "source": [
    "%timeit np.fromiter((xi + yi for xi, yi in zip(x, y)), dtype = x.dtype, count=len(x))"
   ]
  },
  {
   "cell_type": "code",
   "execution_count": 3,
   "metadata": {
    "collapsed": true
   },
   "outputs": [],
   "source": [
    "mask = (x > 0.5) + (y < 0.5)"
   ]
  },
  {
   "cell_type": "code",
   "execution_count": 4,
   "metadata": {
    "collapsed": true
   },
   "outputs": [],
   "source": [
    "tmp1 = (x > 0.5)\n",
    "tmp2 = (y < 0.5)\n",
    "mask = tmp1 + tmp2"
   ]
  },
  {
   "cell_type": "code",
   "execution_count": 8,
   "metadata": {
    "collapsed": false
   },
   "outputs": [
    {
     "name": "stdout",
     "output_type": "stream",
     "text": [
      "[ True False  True ...,  True  True False]\n"
     ]
    }
   ],
   "source": [
    "print(mask)\n",
    "\n",
    "import numexpr\n",
    "mask_numexpr = numexpr.evaluate('(x < 0.5) & (y > 0.5)')"
   ]
  },
  {
   "cell_type": "code",
   "execution_count": 2,
   "metadata": {
    "collapsed": false
   },
   "outputs": [
    {
     "ename": "NameError",
     "evalue": "name 'np' is not defined",
     "output_type": "error",
     "traceback": [
      "\u001b[0;31m---------------------------------------------------------------------------\u001b[0m",
      "\u001b[0;31mNameError\u001b[0m                                 Traceback (most recent call last)",
      "\u001b[0;32m<ipython-input-2-679a2f064db4>\u001b[0m in \u001b[0;36m<module>\u001b[0;34m()\u001b[0m\n\u001b[1;32m      2\u001b[0m \u001b[1;33m\u001b[0m\u001b[0m\n\u001b[1;32m      3\u001b[0m \u001b[0mnrows\u001b[0m\u001b[1;33m,\u001b[0m \u001b[0mncols\u001b[0m \u001b[1;33m=\u001b[0m \u001b[1;36m1000000\u001b[0m\u001b[1;33m,\u001b[0m \u001b[1;36m100\u001b[0m\u001b[1;33m\u001b[0m\u001b[0m\n\u001b[0;32m----> 4\u001b[0;31m \u001b[0mrng\u001b[0m \u001b[1;33m=\u001b[0m \u001b[0mnp\u001b[0m\u001b[1;33m.\u001b[0m\u001b[0mrandom\u001b[0m\u001b[1;33m.\u001b[0m\u001b[0mRandomState\u001b[0m\u001b[1;33m(\u001b[0m\u001b[1;36m42\u001b[0m\u001b[1;33m)\u001b[0m\u001b[1;33m\u001b[0m\u001b[0m\n\u001b[0m\u001b[1;32m      5\u001b[0m df1, df2, df3, df4 = (pd.DataFrame(rng.rand(nrows, ncols))\n\u001b[1;32m      6\u001b[0m                      for i in range(4))\n",
      "\u001b[0;31mNameError\u001b[0m: name 'np' is not defined"
     ]
    }
   ],
   "source": [
    "import pandas as pd\n",
    "\n",
    "nrows, ncols = 1000000, 100\n",
    "rng = np.random.RandomState(42)\n",
    "df1, df2, df3, df4 = (pd.DataFrame(rng.rand(nrows, ncols))\n",
    "                     for i in range(4))\n",
    "\n"
   ]
  },
  {
   "cell_type": "code",
   "execution_count": 17,
   "metadata": {
    "collapsed": false
   },
   "outputs": [
    {
     "name": "stdout",
     "output_type": "stream",
     "text": [
      "1 loop, best of 3: 1.01 s per loop\n",
      "1 loop, best of 3: 431 ms per loop\n"
     ]
    }
   ],
   "source": [
    "%timeit df1 + df2 + df3 + df4\n",
    "\n",
    "%timeit pd.eval('df1 + df2 + df3 + df4')"
   ]
  },
  {
   "cell_type": "code",
   "execution_count": 21,
   "metadata": {
    "collapsed": false
   },
   "outputs": [
    {
     "data": {
      "text/plain": [
       "True"
      ]
     },
     "execution_count": 21,
     "metadata": {},
     "output_type": "execute_result"
    }
   ],
   "source": [
    "df1, df2, df3, df4, df5 = (pd.DataFrame(rng.randint(0, 1000, (100, 3)))\n",
    "                           for i in range(5))\n",
    "\n",
    "rst1 = -df1 * df2 / (df3 / df4) - df5\n",
    "rst2 = pd.eval('-df1 * df2 / (df3 / df4) - df5')\n",
    "#Allclose decides if the results are exactly the same\n",
    "np.allclose(rst1, rst2)"
   ]
  },
  {
   "cell_type": "code",
   "execution_count": 25,
   "metadata": {
    "collapsed": false
   },
   "outputs": [
    {
     "name": "stdout",
     "output_type": "stream",
     "text": [
      "            A         B         C          D\n",
      "0    0.035153  0.753479  0.597389  -1.958795\n",
      "1    0.427153  0.417210  0.911456  -9.536105\n",
      "2    0.748738  0.284890  0.007381  -1.041313\n",
      "3    0.125291  0.588086  0.200205  -0.891950\n",
      "4    0.213298  0.117862  0.592728  -0.813115\n",
      "5    0.173126  0.037360  0.150917  -0.247897\n",
      "6    0.713353  0.014838  0.444310  -1.310424\n",
      "7    0.283327  0.374480  0.202893  -0.825243\n",
      "8    0.679245  0.279350  0.749008  -3.819221\n",
      "9    0.487817  0.117842  0.320911  -0.891868\n",
      "10   0.037965  0.672682  0.773654  -3.139648\n",
      "11   0.137732  0.383327  0.899298  -5.174269\n",
      "12   0.224930  0.661977  0.853515  -6.054581\n",
      "13   0.896008  0.758375  0.319465  -2.431004\n",
      "14   0.576592  0.999404  0.575415  -3.711847\n",
      "15   0.221132  0.278374  0.449720  -0.907732\n",
      "16   0.910830  0.409816  0.632509  -3.593685\n",
      "17   0.084737  0.739663  0.749235  -3.287535\n",
      "18   0.189247  0.770151  0.702620  -3.226172\n",
      "19   0.520366  0.026919  0.903883  -5.693940\n",
      "20   0.552301  0.929317  0.778093  -6.676757\n",
      "21   0.529051  0.782413  0.262812  -1.779010\n",
      "22   0.447846  0.739139  0.683614  -3.751697\n",
      "23   0.889360  0.890260  0.423868  -3.088913\n",
      "24   0.829593  0.767056  0.477926  -3.058283\n",
      "25   0.646712  0.062993  0.608677  -1.813601\n",
      "26   0.573933  0.123437  0.070398  -0.750180\n",
      "27   0.342292  0.477755  0.766930  -3.518457\n",
      "28   0.768980  0.001836  0.504100  -1.554379\n",
      "29   0.514986  0.835379  0.471605  -2.555600\n",
      "..        ...       ...       ...        ...\n",
      "970  0.219698  0.786224  0.716973  -3.554153\n",
      "971  0.132255  0.087695  0.816364  -1.197747\n",
      "972  0.568136  0.919087  0.361230  -2.328261\n",
      "973  0.180080  0.018043  0.573303  -0.464319\n",
      "974  0.149520  0.831476  0.628582  -2.641219\n",
      "975  0.421511  0.261039  0.159390  -0.811971\n",
      "976  0.606893  0.110218  0.096246  -0.793480\n",
      "977  0.233328  0.531152  0.399664  -1.273420\n",
      "978  0.135663  0.228796  0.170812  -0.439537\n",
      "979  0.430034  0.143533  0.135846  -0.663733\n",
      "980  0.604397  0.167825  0.403067  -1.293650\n",
      "981  0.945154  0.662952  0.895692 -15.416861\n",
      "982  0.447068  0.069526  0.066514  -0.553403\n",
      "983  0.355042  0.070535  0.965922 -12.488518\n",
      "984  0.183339  0.298320  0.131476  -0.554572\n",
      "985  0.273408  0.458761  0.730029  -2.712026\n",
      "986  0.800304  0.667632  0.701367  -4.915525\n",
      "987  0.533241  0.574905  0.918591 -13.612134\n",
      "988  0.177467  0.360027  0.947372 -10.212999\n",
      "989  0.236568  0.431469  0.754318  -2.719119\n",
      "990  0.986894  0.080299  0.338402  -1.613054\n",
      "991  0.365327  0.143032  0.989343 -47.700391\n",
      "992  0.608104  0.069322  0.115150  -0.765582\n",
      "993  0.599315  0.679954  0.880451 -10.700792\n",
      "994  0.103352  0.054436  0.810095  -0.830880\n",
      "995  0.754112  0.884817  0.486905  -3.194200\n",
      "996  0.676335  0.928532  0.616900  -4.189164\n",
      "997  0.637441  0.605506  0.715437  -4.367915\n",
      "998  0.133844  0.385758  0.533894  -1.114772\n",
      "999  0.681261  0.803735  0.732321  -5.547673\n",
      "\n",
      "[1000 rows x 4 columns]\n"
     ]
    }
   ],
   "source": [
    "import numpy as np\n",
    "import pandas as pd\n",
    "\n",
    "df = pd.DataFrame(rng.rand(1000, 3), columns = ['A', 'B', 'C'])\n",
    "\n",
    "rst1 = (df['A'] + df['B']) / (df['C'] - 1)\n",
    "\n",
    "rst2 = pd.eval(\"(df.A + df.B) / (df.C - 1)\")\n",
    "\n",
    "np.allclose(rst1, rst2)\n",
    "\n",
    "rst3 = df.eval(\"(A + B) / (C - 1)\")\n",
    "np.allclose(rst2, rst3)\n",
    "\n",
    "df.eval(\"D = (A + B) / (C - 1)\", inplace = True)\n",
    "\n",
    "print(df)"
   ]
  },
  {
   "cell_type": "code",
   "execution_count": 1,
   "metadata": {
    "collapsed": false
   },
   "outputs": [
    {
     "ename": "NameError",
     "evalue": "name 'df' is not defined",
     "output_type": "error",
     "traceback": [
      "\u001b[0;31m---------------------------------------------------------------------------\u001b[0m",
      "\u001b[0;31mNameError\u001b[0m                                 Traceback (most recent call last)",
      "\u001b[0;32m<ipython-input-1-9efe9948b472>\u001b[0m in \u001b[0;36m<module>\u001b[0;34m()\u001b[0m\n\u001b[0;32m----> 1\u001b[0;31m \u001b[0mcolumn_mean\u001b[0m \u001b[1;33m=\u001b[0m \u001b[0mdf\u001b[0m\u001b[1;33m.\u001b[0m\u001b[0mmean\u001b[0m\u001b[1;33m(\u001b[0m\u001b[1;36m1\u001b[0m\u001b[1;33m)\u001b[0m\u001b[1;33m\u001b[0m\u001b[0m\n\u001b[0m\u001b[1;32m      2\u001b[0m \u001b[0mrst1\u001b[0m \u001b[1;33m=\u001b[0m \u001b[0mdf\u001b[0m\u001b[1;33m[\u001b[0m\u001b[1;34m'A'\u001b[0m\u001b[1;33m]\u001b[0m \u001b[1;33m+\u001b[0m \u001b[0mcolumn_mean\u001b[0m\u001b[1;33m\u001b[0m\u001b[0m\n\u001b[1;32m      3\u001b[0m \u001b[0mrst2\u001b[0m \u001b[1;33m=\u001b[0m \u001b[0mdf\u001b[0m\u001b[1;33m.\u001b[0m\u001b[0meval\u001b[0m\u001b[1;33m(\u001b[0m\u001b[1;34m'A + @column_mean'\u001b[0m\u001b[1;33m)\u001b[0m\u001b[1;33m\u001b[0m\u001b[0m\n\u001b[1;32m      4\u001b[0m \u001b[0mnp\u001b[0m\u001b[1;33m.\u001b[0m\u001b[0mallclose\u001b[0m\u001b[1;33m(\u001b[0m\u001b[0mrst1\u001b[0m\u001b[1;33m,\u001b[0m \u001b[0mrst2\u001b[0m\u001b[1;33m)\u001b[0m\u001b[1;33m\u001b[0m\u001b[0m\n",
      "\u001b[0;31mNameError\u001b[0m: name 'df' is not defined"
     ]
    }
   ],
   "source": [
    "column_mean = df.mean(1)\n",
    "rst1 = df['A'] + column_mean\n",
    "rst2 = df.eval('A + @column_mean')\n",
    "np.allclose(rst1, rst2)"
   ]
  },
  {
   "cell_type": "code",
   "execution_count": 7,
   "metadata": {
    "collapsed": false
   },
   "outputs": [
    {
     "data": {
      "text/plain": [
       "True"
      ]
     },
     "execution_count": 7,
     "metadata": {},
     "output_type": "execute_result"
    }
   ],
   "source": [
    "import numpy as np\n",
    "import pandas as pd\n",
    "\n",
    "rng = np.random.RandomState(42)\n",
    "\n",
    "df = pd.DataFrame(rng.rand(1000, 3), columns = ['A', 'B', 'C'])\n",
    "\n",
    "rst1 = df[(df.A < 0.5) & (df.B > 0.5)]\n",
    "rst2 = pd.eval('df[(df.A < 0.5) & (df.B > 0.5)]')\n",
    "\n",
    "np.allclose(rst1, rst2)\n"
   ]
  }
 ],
 "metadata": {
  "kernelspec": {
   "display_name": "Python 3",
   "language": "python",
   "name": "python3"
  },
  "language_info": {
   "codemirror_mode": {
    "name": "ipython",
    "version": 3
   },
   "file_extension": ".py",
   "mimetype": "text/x-python",
   "name": "python",
   "nbconvert_exporter": "python",
   "pygments_lexer": "ipython3",
   "version": "3.6.0"
  }
 },
 "nbformat": 4,
 "nbformat_minor": 2
}
