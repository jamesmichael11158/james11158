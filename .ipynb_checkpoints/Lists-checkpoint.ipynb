{
 "cells": [
  {
   "cell_type": "code",
   "execution_count": 13,
   "metadata": {
    "collapsed": false
   },
   "outputs": [
    {
     "data": {
      "text/plain": [
       "array([ 1.  ,  2.  ,  3.14])"
      ]
     },
     "execution_count": 13,
     "metadata": {},
     "output_type": "execute_result"
    }
   ],
   "source": [
    "import numpy as np\n",
    "\n",
    "np.array([1, 2, 3])\n",
    "\n",
    "#Integer array up cast to decimal\n",
    "np.array([1, 2, 3.14])\n",
    "\n",
    "#to explicitly set the datatype:\n",
    "np.array([1, 2, 3, 4], dtype = 'float32')\n",
    "\n",
    "#An array:\n",
    "np.array([range(i, i + 3) for i in [2, 4, 6]])\n",
    "\n",
    "np.array([range(n, n + 4) for n in[1, 2, 3]])\n",
    "\n",
    "# Make a full array\n",
    "np.full((3, 5), 3.14)\n",
    "#  Arrays populated using upper and lower bounds\n",
    "np.arange(0, 20, 2)\n",
    "np.linspace(0, 1, 5)\n",
    "\n",
    "#  At random:\n",
    "np.random.random((3, 3))\n",
    "\n",
    "#  At random (mean = 0 sd = 1):\n",
    "np.random.randint(0, 10, (3, 3))\n",
    "\n",
    "# Identity matrix\n",
    "np.eye(3)\n",
    "\n",
    "# Creates an unitilialised array of 3 integers(?), \n",
    "np.empty(3)"
   ]
  },
  {
   "cell_type": "code",
   "execution_count": 56,
   "metadata": {
    "collapsed": false
   },
   "outputs": [
    {
     "name": "stdout",
     "output_type": "stream",
     "text": [
      "x3 ndim:  3\n",
      "x3 shape:  (3, 4, 5)\n",
      "x3 size:  60\n",
      "x3 data type:  int32\n",
      "x3 item size (of each element):  4\n",
      "x3 number of bytes (of entire array):  240\n",
      "\n",
      "[5 0 3 3 7 9]\n",
      "Arrays are base 0, element 1 of x1 is:  0\n",
      "To index from the end use negative(-1 is last element):  9\n",
      "\n",
      "x2:  [[3 5 2 4]\n",
      " [7 6 8 8]\n",
      " [1 6 7 7]]\n",
      "1, 1:  6\n",
      "2, -1:  7\n",
      "\n",
      "Splitting 1D Arrays\n",
      "arrray(start:stop:step)\n",
      "[5 0 3 3 7 9]\n",
      "[5 0]\n",
      "[3 3 7 9]\n",
      "[3 3 7]\n",
      "[5 3 7]\n"
     ]
    }
   ],
   "source": [
    "# Array operations\n",
    "import numpy as np\n",
    "\n",
    "np.random.seed(0)\n",
    "\n",
    "x1 = np.random.randint(10, size = 6)\n",
    "x2 = np.random.randint(10, size = (3, 4))\n",
    "x3 = np.random.randint(10, size = (3, 4, 5))\n",
    "\n",
    "print(\"x3 ndim: \", x3.ndim)\n",
    "print(\"x3 shape: \", x3.shape)\n",
    "print(\"x3 size: \", x3.size)\n",
    "print(\"x3 data type: \", x3.dtype)\n",
    "print(\"x3 item size (of each element): \", x3.itemsize)\n",
    "print(\"x3 number of bytes (of entire array): \", x3.nbytes)\n",
    "print(\"\")\n",
    "print(x1)\n",
    "print(\"Arrays are base 0, element 1 of x1 is: \", x1[1])\n",
    "print(\"To index from the end use negative(-1 is last element): \", x1[-1])\n",
    "print(\"\")\n",
    "print(\"x2: \", x2)\n",
    "print (\"1, 1: \", x2[1, 1])\n",
    "print (\"2, -1: \", x2[1, -4])\n",
    "print(\"\")\n",
    "print(\"Splitting 1D Arrays\")\n",
    "print(\"arrray(start:stop:step)\")\n",
    "print(x1)\n",
    "print(x1[:2])\n",
    "print(x1[2:])\n",
    "print(x1[2:5])\n",
    "print(x1[::2])"
   ]
  },
  {
   "cell_type": "code",
   "execution_count": 66,
   "metadata": {
    "collapsed": false
   },
   "outputs": [
    {
     "name": "stdout",
     "output_type": "stream",
     "text": [
      "[[5 0 3 3]\n",
      " [7 9 3 5]\n",
      " [2 4 7 6]]\n",
      "\n",
      "2rows, 3cols:  [[5 0 3]\n",
      " [7 9 3]]\n",
      "All rows, every other column: [[5 3]\n",
      " [7 3]\n",
      " [2 7]]\n",
      "all reversed:  [[6 7 4 2]\n",
      " [5 3 9 7]\n",
      " [3 3 0 5]]\n",
      "\n",
      "To get entire col/row use (:)\n",
      "[3 3 7]\n",
      "[2 4 7 6]\n"
     ]
    }
   ],
   "source": [
    "#Splitting 2D Arrays:\n",
    "import numpy as np\n",
    "np.random.seed(0)\n",
    "x2 = np.random.randint(10, size = (3, 4))\n",
    "print(x2)\n",
    "print (\"\")\n",
    "print(\"2rows, 3cols: \", x2[:2,:3])\n",
    "print(\"All rows, every other column:\", x2[:4, ::2])\n",
    "print(\"all reversed: \", x2[::-1, ::-1])\n",
    "print(\"\")\n",
    "print(\"To get entire col/row use (:)\")\n",
    "print(x2[:, 2])\n",
    "print(x2[2, :])\n"
   ]
  },
  {
   "cell_type": "code",
   "execution_count": 80,
   "metadata": {
    "collapsed": false
   },
   "outputs": [
    {
     "name": "stdout",
     "output_type": "stream",
     "text": [
      "[[5 0 3 3]\n",
      " [7 9 3 5]\n",
      " [2 4 7 6]]\n",
      "[[5 0]\n",
      " [7 9]]\n",
      "[[ 5  0]\n",
      " [ 7 99]]\n",
      "New [[1000    0]\n",
      " [   7   99]]\n",
      "Original [[ 5  0]\n",
      " [ 7 99]]\n"
     ]
    }
   ],
   "source": [
    "# One important difference between Python Lists and numpy Arrays?\n",
    "# numpy arrays are views of the data (not as we would expect)\n",
    "# Python lists are copies of the data (seemingly similar to r)\n",
    "import numpy as np\n",
    "\n",
    "np.random.seed(0)\n",
    "\n",
    "x2 = np.random.randint(10, size = (3, 4))\n",
    "print(x2)\n",
    "x2_new = x2[:2, :2]\n",
    "print(x2_new)\n",
    "x2_new[1, 1] = 99\n",
    "x2\n",
    "\n",
    "#To explicitly copy data:\n",
    "x2_new_copy = x2[:2, :2].copy()\n",
    "print(x2_new_copy)\n",
    "x2_new_copy[0,0] = 1000\n",
    "print(\"New\", x2_new_copy)\n",
    "print(\"Original\", x2[:2, :2])"
   ]
  },
  {
   "cell_type": "code",
   "execution_count": 84,
   "metadata": {
    "collapsed": false
   },
   "outputs": [
    {
     "data": {
      "text/plain": [
       "array([[1],\n",
       "       [2],\n",
       "       [3]])"
      ]
     },
     "execution_count": 84,
     "metadata": {},
     "output_type": "execute_result"
    }
   ],
   "source": [
    "# Reshaping\n",
    "x = np.array([1, 2, 3])\n",
    "x[np.newaxis, :]\n",
    "x.reshape(3, 1)"
   ]
  },
  {
   "cell_type": "code",
   "execution_count": 108,
   "metadata": {
    "collapsed": false
   },
   "outputs": [
    {
     "name": "stdout",
     "output_type": "stream",
     "text": [
      "[ 1  2  3  5  9 10]\n",
      "[ 1  2  3  5  9 10  3  4  5]\n",
      "axis = 0\n",
      "[[1 2 3]\n",
      " [5 6 7]\n",
      " [1 2 3]\n",
      " [5 6 7]]\n",
      "axis = 1\n",
      "[[1 2 3 1 2 3]\n",
      " [5 6 7 5 6 7]]\n",
      "[[1 2 3]\n",
      " [1 2 3]\n",
      " [5 6 7]]\n",
      "[[1 1 2 3]\n",
      " [2 5 6 7]]\n",
      "[1 2 3] [99 99] [3 2 1]\n"
     ]
    }
   ],
   "source": [
    "#  Concatenation and splitting\n",
    "x = np.array([1, 2, 3])\n",
    "y = np.array([5, 9, 10])\n",
    "z = np.array([3, 4, 5])\n",
    "\n",
    "print(np.concatenate([x, y]))\n",
    "print(np.concatenate([x, y, z]))\n",
    "\n",
    "# for 2d arrady:\n",
    "grid = np.array([[1, 2, 3], [5, 6, 7]])\n",
    "# Concatenation on the first (row) axis\n",
    "print(\"axis = 0\")\n",
    "print(np.concatenate([grid, grid]))\n",
    "\n",
    "# Concatenation on the second (col) axis\n",
    "print(\"axis = 1\")\n",
    "print(np.concatenate([grid, grid], axis = 1))\n",
    "\n",
    "# Vertical Stacking, the same as axis = 0\n",
    "print(np.vstack([x, grid]))\n",
    "\n",
    "# Horizontal Stacking, the same as axis = 1\n",
    "print(np.hstack([x.reshape(3, 1)[:2], grid]))\n",
    "\n",
    "#Dstack will do third axis\n",
    "\n",
    "#Splitting of arrays\n",
    "x = [1, 2, 3, 99, 99, 3, 2, 1]\n",
    "x1, x2, x3 = np.split(x, [3, 5])\n",
    "print(x1, x2, x3)\n",
    "\n",
    "#There are also hsplit and vsplit functions"
   ]
  }
 ],
 "metadata": {
  "kernelspec": {
   "display_name": "Python 3",
   "language": "python",
   "name": "python3"
  },
  "language_info": {
   "codemirror_mode": {
    "name": "ipython",
    "version": 3
   },
   "file_extension": ".py",
   "mimetype": "text/x-python",
   "name": "python",
   "nbconvert_exporter": "python",
   "pygments_lexer": "ipython3",
   "version": "3.6.0"
  }
 },
 "nbformat": 4,
 "nbformat_minor": 2
}
