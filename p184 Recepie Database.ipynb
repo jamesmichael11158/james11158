{
 "cells": [
  {
   "cell_type": "code",
   "execution_count": 16,
   "metadata": {
    "collapsed": false
   },
   "outputs": [
    {
     "name": "stdout",
     "output_type": "stream",
     "text": [
      "     oregano parsley pepper rosemary   sage  salt tarragon  thyme\n",
      "548    False   False   True    False  False  True    False  False\n",
      "553    False    True   True    False  False  True    False  False\n",
      "562    False   False   True    False  False  True    False  False\n",
      "567    False   False   True    False  False  True    False  False\n",
      "569     True   False   True    False  False  True    False  False\n",
      "570    False   False   True     True  False  True    False  False\n",
      "577    False   False   True    False  False  True    False  False\n",
      "582    False   False   True    False  False  True    False  False\n",
      "583    False   False   True    False  False  True    False   True\n",
      "584    False   False   True    False  False  True    False  False\n",
      "590    False   False   True    False  False  True    False  False\n",
      "591     True   False   True    False  False  True    False  False\n",
      "593    False   False   True    False  False  True    False  False\n",
      "596    False   False   True    False  False  True    False  False\n",
      "597    False   False   True    False  False  True    False  False\n",
      "598    False    True   True    False  False  True    False   True\n",
      "606    False   False   True    False  False  True    False  False\n",
      "609    False   False   True    False  False  True    False  False\n",
      "610    False   False   True    False  False  True    False  False\n",
      "612    False    True   True     True  False  True    False  False\n",
      "613    False   False   True    False  False  True    False  False\n",
      "614    False   False   True    False  False  True    False  False\n",
      "615    False   False   True    False  False  True    False  False\n",
      "617    False   False   True    False  False  True    False  False\n",
      "623    False   False   True    False  False  True    False  False\n",
      "630     True    True   True    False  False  True    False  False\n",
      "631    False   False   True    False  False  True    False  False\n",
      "633    False    True   True    False  False  True    False  False\n",
      "634    False   False   True    False  False  True    False  False\n",
      "636    False    True   True    False  False  True    False  False\n",
      "...      ...     ...    ...      ...    ...   ...      ...    ...\n",
      "828    False   False   True    False  False  True    False  False\n",
      "830    False    True   True    False  False  True    False  False\n",
      "833     True   False   True    False  False  True    False  False\n",
      "834    False   False   True     True  False  True    False  False\n",
      "837    False   False   True    False  False  True    False  False\n",
      "871    False   False   True    False  False  True    False  False\n",
      "876    False   False   True    False  False  True    False  False\n",
      "878    False   False   True    False  False  True    False  False\n",
      "885    False   False   True    False  False  True    False  False\n",
      "899    False   False   True    False  False  True    False  False\n",
      "911     True   False   True    False  False  True     True   True\n",
      "923    False   False   True    False  False  True    False  False\n",
      "929    False   False   True    False  False  True    False  False\n",
      "931    False   False   True    False  False  True    False  False\n",
      "947    False   False   True    False  False  True    False  False\n",
      "972    False   False   True    False  False  True    False  False\n",
      "987    False    True   True    False  False  True    False  False\n",
      "1000   False   False   True    False  False  True    False  False\n",
      "1008   False   False   True    False  False  True    False  False\n",
      "1013   False   False   True    False   True  True    False  False\n",
      "1014   False   False   True    False  False  True    False  False\n",
      "1015   False   False   True    False  False  True    False  False\n",
      "1017   False   False   True    False  False  True    False  False\n",
      "1019   False   False   True    False  False  True    False  False\n",
      "1021   False   False   True    False  False  True    False  False\n",
      "1022   False   False   True    False  False  True    False  False\n",
      "1026   False   False   True    False  False  True    False  False\n",
      "1031   False   False   True    False  False  True    False  False\n",
      "1033   False   False   True    False  False  True    False  False\n",
      "1040   False   False   True    False  False  True    False  False\n",
      "\n",
      "[116 rows x 8 columns]\n"
     ]
    },
    {
     "data": {
      "text/plain": [
       "<generator object <genexpr> at 0x0000000009ABEE08>"
      ]
     },
     "execution_count": 16,
     "metadata": {},
     "output_type": "execute_result"
    }
   ],
   "source": [
    "import numpy as np\n",
    "import pandas as pd\n",
    "\n",
    "# try:\n",
    "#     recipes = pd.read_json('recipeitems-latest.json')\n",
    "# except ValueError as e:\n",
    "#     print(\"ValueError: \", e)\n",
    "\n",
    "with open('recipeitems-latest.json') as f:\n",
    "    line = f.readline()\n",
    "    data = (line.strip() for line in f)\n",
    "    \n",
    "    data_json = \"[{0}]\".format(','.join(data))\n",
    "\n",
    "recipes = pd.read_json(data_json)\n",
    "# print(recepies.iloc[0])\n",
    "\n",
    "# print(recipes.ingredients.str.len().describe())\n",
    "\n",
    "#with the longest name\n",
    "recipes.name[np.argmax(recipes.ingredients.str.len())]\n",
    "\n",
    "#How many are breakfasts\n",
    "# recipes.description.str.contains('[Bb]reakfast').sum()\n",
    "# recipes.ingredients.str.contains('[Cc]innamon').sum()\n",
    "\n",
    "spice_list = ['salt', 'pepper', 'oregano', 'sage', 'parsley', 'rosemary', 'tarragon', 'thyme']\n",
    "\n",
    "import re\n",
    "\n",
    "spice_df = pd.DataFrame(\n",
    "    dict((spice, recipes.ingredients.str.contains(spice, re.IGNORECASE))     \n",
    "         for spice in spice_list))\n",
    "\n",
    "#print(spice_df)\n",
    "\n",
    "selection = spice_df.query('salt & pepper')\n",
    "\n",
    "print(selection)\n",
    "\n",
    "(((spice, recipes.ingredients.str.contains(spice, re.IGNORECASE)) for spice in spice_list))"
   ]
  },
  {
   "cell_type": "code",
   "execution_count": null,
   "metadata": {
    "collapsed": true
   },
   "outputs": [],
   "source": []
  }
 ],
 "metadata": {
  "kernelspec": {
   "display_name": "Python 3",
   "language": "python",
   "name": "python3"
  },
  "language_info": {
   "codemirror_mode": {
    "name": "ipython",
    "version": 3
   },
   "file_extension": ".py",
   "mimetype": "text/x-python",
   "name": "python",
   "nbconvert_exporter": "python",
   "pygments_lexer": "ipython3",
   "version": "3.6.0"
  }
 },
 "nbformat": 4,
 "nbformat_minor": 2
}
