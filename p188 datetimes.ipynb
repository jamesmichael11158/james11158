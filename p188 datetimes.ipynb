{
 "cells": [
  {
   "cell_type": "code",
   "execution_count": 16,
   "metadata": {
    "collapsed": false
   },
   "outputs": [
    {
     "name": "stdout",
     "output_type": "stream",
     "text": [
      "1995-07-04 00:00:00\n",
      "2014-07-04    0\n",
      "2014-08-04    1\n",
      "2015-07-04    2\n",
      "dtype: int64\n",
      "2015-07-04    2\n",
      "2015-08-04    3\n",
      "dtype: int64\n"
     ]
    }
   ],
   "source": [
    "from datetime import datetime\n",
    "\n",
    "datetime(year = 2017, month = 5, day = 9)\n",
    "\n",
    "from dateutil import parser\n",
    "date = parser.parse(\"4th. of .July 1995\")\n",
    "print(date)\n",
    "\n",
    "date.strftime('%A')\n",
    "\n",
    "import numpy as np\n",
    "import pandas as pd\n",
    "date = np.array(['2017-05-01', '2017-05-02'], dtype = np.datetime64)\n",
    "date\n",
    "\n",
    "#using pandas\n",
    "index = pd.DatetimeIndex(['2014-07-04', '2014-08-04', '2015-07-04', '2015-08-04'])\n",
    "data = pd.Series([0, 1, 2, 3], index = index)\n",
    "print(data['2014-07-04':'2015-07-04'])\n",
    "print(data['2015'])\n",
    "\n",
    "\n"
   ]
  },
  {
   "cell_type": "code",
   "execution_count": null,
   "metadata": {
    "collapsed": true
   },
   "outputs": [],
   "source": []
  }
 ],
 "metadata": {
  "kernelspec": {
   "display_name": "Python 3",
   "language": "python",
   "name": "python3"
  },
  "language_info": {
   "codemirror_mode": {
    "name": "ipython",
    "version": 3
   },
   "file_extension": ".py",
   "mimetype": "text/x-python",
   "name": "python",
   "nbconvert_exporter": "python",
   "pygments_lexer": "ipython3",
   "version": "3.6.0"
  }
 },
 "nbformat": 4,
 "nbformat_minor": 2
}
